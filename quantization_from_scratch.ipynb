{
 "cells": [
  {
   "cell_type": "markdown",
   "metadata": {},
   "source": [
    "# Create a simple tensor with random items"
   ]
  },
  {
   "cell_type": "code",
   "execution_count": 1,
   "metadata": {},
   "outputs": [
    {
     "name": "stdout",
     "output_type": "stream",
     "text": [
      "[126.34 -48.25   0.   -26.62 -25.33 125.34  59.8  124.3   84.23  83.14\n",
      "  46.56  85.25 -28.93 -26.43 -47.25   1.23  11.86  -4.82  -3.51 -25.49]\n"
     ]
    }
   ],
   "source": [
    "import numpy as np\n",
    "\n",
    "# Suppress scientific notation\n",
    "np.set_printoptions(suppress=True)\n",
    "\n",
    "# Generate randomly distributed parameters\n",
    "params = np.random.uniform(low=-50, high=150, size=20)\n",
    "\n",
    "# Make sure important values are at the beginning for better debugging\n",
    "params[0] = params.max() + 1\n",
    "params[1] = params.min() - 1\n",
    "params[2] = 0\n",
    "\n",
    "# Round each number to the second decimal place\n",
    "params = np.round(params, 2)\n",
    "\n",
    "# Print the parameters\n",
    "print(params)"
   ]
  },
  {
   "cell_type": "markdown",
   "metadata": {},
   "source": [
    "# Define the quantization methods and quantize"
   ]
  },
  {
   "cell_type": "code",
   "execution_count": 4,
   "metadata": {},
   "outputs": [
    {
     "name": "stdout",
     "output_type": "stream",
     "text": [
      "Original:\n",
      "[126.34 -48.25   0.   -26.62 -25.33 125.34  59.8  124.3   84.23  83.14\n",
      "  46.56  85.25 -28.93 -26.43 -47.25   1.23  11.86  -4.82  -3.51 -25.49]\n",
      "\n",
      "Asymmetric scale: 0.6846666666666666, zero: 70.0\n",
      "[255   0  70  31  33 253 157 252 193 191 138 195  28  31   1  72  87  63\n",
      "  65  33]\n",
      "\n",
      "Symmetric scale: 0.9948031496062992\n",
      "[127 -49   0 -27 -25 126  60 125  85  84  47  86 -29 -27 -47   1  12  -5\n",
      "  -4 -26]\n"
     ]
    }
   ],
   "source": [
    "def clamp(params_q: np.array, lower_bound: int, upper_bound: int) -> np.array:\n",
    "    params_q[params_q < lower_bound] = lower_bound\n",
    "    params_q[params_q > upper_bound] = upper_bound\n",
    "    return params_q\n",
    "\n",
    "def asymmetric_quantization(params: np.array, bits: int) -> tuple[np.array, float, int]:\n",
    "    # Calculate the scale and zero point\n",
    "    alpha = np.max(params)\n",
    "    beta = np.min(params)\n",
    "    scale = (alpha - beta) / (2**bits-1)\n",
    "    zero = -1*np.round(beta / scale)\n",
    "    lower_bound, upper_bound = 0, 2**bits-1\n",
    "    # Quantize the parameters\n",
    "    quantized = clamp(np.round(params / scale + zero), lower_bound, upper_bound).astype(np.int32)\n",
    "    return quantized, scale, zero\n",
    "\n",
    "def asymmetric_dequantize(params_q: np.array, scale: float, zero: int) -> np.array:\n",
    "    return (params_q - zero) * scale\n",
    "\n",
    "def symmetric_dequantize(params_q: np.array, scale: float) -> np.array:\n",
    "    return params_q * scale\n",
    "\n",
    "def symmetric_quantization(params: np.array, bits: int) -> tuple[np.array, float]:\n",
    "    # Calculate the scale\n",
    "    alpha = np.max(np.abs(params))\n",
    "    scale = alpha / (2**(bits-1)-1)\n",
    "    lower_bound = -2**(bits-1)\n",
    "    upper_bound = 2**(bits-1)-1\n",
    "    # Quantize the parameters\n",
    "    quantized = clamp(np.round(params / scale), lower_bound, upper_bound).astype(np.int32)\n",
    "    return quantized, scale\n",
    "\n",
    "def quantization_error(params: np.array, params_q: np.array):\n",
    "    # calculate the MSE\n",
    "    return np.mean((params - params_q)**2)\n",
    "\n",
    "(asymmetric_q, asymmetric_scale, asymmetric_zero) = asymmetric_quantization(params, 8)\n",
    "(symmetric_q, symmetric_scale) = symmetric_quantization(params, 8)\n",
    "\n",
    "print(f'Original:')\n",
    "print(np.round(params, 2))\n",
    "print('')\n",
    "print(f'Asymmetric scale: {asymmetric_scale}, zero: {asymmetric_zero}')\n",
    "print(asymmetric_q)\n",
    "print('')\n",
    "print(f'Symmetric scale: {symmetric_scale}')\n",
    "print(symmetric_q)"
   ]
  },
  {
   "cell_type": "code",
   "execution_count": 5,
   "metadata": {},
   "outputs": [
    {
     "name": "stdout",
     "output_type": "stream",
     "text": [
      "Original:\n",
      "[126.34 -48.25   0.   -26.62 -25.33 125.34  59.8  124.3   84.23  83.14\n",
      "  46.56  85.25 -28.93 -26.43 -47.25   1.23  11.86  -4.82  -3.51 -25.49]\n",
      "\n",
      "Dequantize Asymmetric:\n",
      "[126.66 -47.93   0.   -26.7  -25.33 125.29  59.57 124.61  84.21  82.84\n",
      "  46.56  85.58 -28.76 -26.7  -47.24   1.37  11.64  -4.79  -3.42 -25.33]\n",
      "\n",
      "Dequantize Symmetric:\n",
      "[126.34 -48.75   0.   -26.86 -24.87 125.35  59.69 124.35  84.56  83.56\n",
      "  46.76  85.55 -28.85 -26.86 -46.76   0.99  11.94  -4.97  -3.98 -25.86]\n"
     ]
    }
   ],
   "source": [
    "# Dequantize the parameters back to 32 bits\n",
    "params_deq_asymmetric = asymmetric_dequantize(asymmetric_q, asymmetric_scale, asymmetric_zero)\n",
    "params_deq_symmetric = symmetric_dequantize(symmetric_q, symmetric_scale)\n",
    "\n",
    "print(f'Original:')\n",
    "print(np.round(params, 2))\n",
    "print('')\n",
    "print(f'Dequantize Asymmetric:')\n",
    "print(np.round(params_deq_asymmetric,2))\n",
    "print('')\n",
    "print(f'Dequantize Symmetric:')\n",
    "print(np.round(params_deq_symmetric, 2))"
   ]
  },
  {
   "cell_type": "code",
   "execution_count": 6,
   "metadata": {},
   "outputs": [
    {
     "name": "stdout",
     "output_type": "stream",
     "text": [
      "  Asymmetric error: 0.04\n",
      "   Symmetric error: 0.09\n"
     ]
    }
   ],
   "source": [
    "# Calculate the quantization error\n",
    "print(f'{\"Asymmetric error: \":>20}{np.round(quantization_error(params, params_deq_asymmetric), 2)}')\n",
    "print(f'{\"Symmetric error: \":>20}{np.round(quantization_error(params, params_deq_symmetric), 2)}')"
   ]
  },
  {
   "cell_type": "code",
   "execution_count": null,
   "metadata": {},
   "outputs": [],
   "source": []
  }
 ],
 "metadata": {
  "kernelspec": {
   "display_name": "probability-statistics",
   "language": "python",
   "name": "python3"
  },
  "language_info": {
   "codemirror_mode": {
    "name": "ipython",
    "version": 3
   },
   "file_extension": ".py",
   "mimetype": "text/x-python",
   "name": "python",
   "nbconvert_exporter": "python",
   "pygments_lexer": "ipython3",
   "version": "3.11.9"
  }
 },
 "nbformat": 4,
 "nbformat_minor": 2
}
